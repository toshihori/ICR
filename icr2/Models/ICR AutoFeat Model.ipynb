{
 "cells": [
  {
   "cell_type": "markdown",
   "id": "f0d0f24b",
   "metadata": {},
   "source": [
    "# [ICR] AutoFeat Model\n",
    "\n",
    " \n",
    "ICR AutoFeatで作った特徴量を追加してモデルを作成する"
   ]
  },
  {
   "cell_type": "code",
   "execution_count": 1,
   "id": "dcc08de8",
   "metadata": {
    "execution": {
     "iopub.execute_input": "2023-07-08T12:20:03.876928Z",
     "iopub.status.busy": "2023-07-08T12:20:03.876524Z",
     "iopub.status.idle": "2023-07-08T12:20:19.621631Z",
     "shell.execute_reply": "2023-07-08T12:20:19.620286Z"
    },
    "papermill": {
     "duration": 15.764447,
     "end_time": "2023-07-08T12:20:19.624953",
     "exception": false,
     "start_time": "2023-07-08T12:20:03.860506",
     "status": "completed"
    },
    "tags": []
   },
   "outputs": [
    {
     "name": "stdout",
     "output_type": "stream",
     "text": [
      "Requirement already satisfied: tabpfn in c:\\users\\user\\anaconda3\\envs\\icr2\\lib\\site-packages (0.1.9)\n",
      "Requirement already satisfied: numpy>=1.21.2 in c:\\users\\user\\anaconda3\\envs\\icr2\\lib\\site-packages (from tabpfn) (1.24.4)\n",
      "Requirement already satisfied: pyyaml>=5.4.1 in c:\\users\\user\\anaconda3\\envs\\icr2\\lib\\site-packages (from tabpfn) (6.0)\n",
      "Requirement already satisfied: requests>=2.23.0 in c:\\users\\user\\anaconda3\\envs\\icr2\\lib\\site-packages (from tabpfn) (2.29.0)\n",
      "Requirement already satisfied: scikit-learn>=0.24.2 in c:\\users\\user\\anaconda3\\envs\\icr2\\lib\\site-packages (from tabpfn) (1.2.2)\n",
      "Requirement already satisfied: torch>=1.9.0 in c:\\users\\user\\anaconda3\\envs\\icr2\\lib\\site-packages (from tabpfn) (2.0.1)\n",
      "Requirement already satisfied: charset-normalizer<4,>=2 in c:\\users\\user\\anaconda3\\envs\\icr2\\lib\\site-packages (from requests>=2.23.0->tabpfn) (2.0.4)\n",
      "Requirement already satisfied: idna<4,>=2.5 in c:\\users\\user\\anaconda3\\envs\\icr2\\lib\\site-packages (from requests>=2.23.0->tabpfn) (3.4)\n",
      "Requirement already satisfied: urllib3<1.27,>=1.21.1 in c:\\users\\user\\anaconda3\\envs\\icr2\\lib\\site-packages (from requests>=2.23.0->tabpfn) (1.26.16)\n",
      "Requirement already satisfied: certifi>=2017.4.17 in c:\\users\\user\\anaconda3\\envs\\icr2\\lib\\site-packages (from requests>=2.23.0->tabpfn) (2023.5.7)\n",
      "Requirement already satisfied: scipy>=1.3.2 in c:\\users\\user\\anaconda3\\envs\\icr2\\lib\\site-packages (from scikit-learn>=0.24.2->tabpfn) (1.10.1)\n",
      "Requirement already satisfied: joblib>=1.1.1 in c:\\users\\user\\anaconda3\\envs\\icr2\\lib\\site-packages (from scikit-learn>=0.24.2->tabpfn) (1.3.0)\n",
      "Requirement already satisfied: threadpoolctl>=2.0.0 in c:\\users\\user\\anaconda3\\envs\\icr2\\lib\\site-packages (from scikit-learn>=0.24.2->tabpfn) (3.2.0)\n",
      "Requirement already satisfied: filelock in c:\\users\\user\\anaconda3\\envs\\icr2\\lib\\site-packages (from torch>=1.9.0->tabpfn) (3.12.2)\n",
      "Requirement already satisfied: typing-extensions in c:\\users\\user\\anaconda3\\envs\\icr2\\lib\\site-packages (from torch>=1.9.0->tabpfn) (4.6.3)\n",
      "Requirement already satisfied: sympy in c:\\users\\user\\anaconda3\\envs\\icr2\\lib\\site-packages (from torch>=1.9.0->tabpfn) (1.12)\n",
      "Requirement already satisfied: networkx in c:\\users\\user\\anaconda3\\envs\\icr2\\lib\\site-packages (from torch>=1.9.0->tabpfn) (3.1)\n",
      "Requirement already satisfied: jinja2 in c:\\users\\user\\anaconda3\\envs\\icr2\\lib\\site-packages (from torch>=1.9.0->tabpfn) (3.1.2)\n",
      "Requirement already satisfied: MarkupSafe>=2.0 in c:\\users\\user\\anaconda3\\envs\\icr2\\lib\\site-packages (from jinja2->torch>=1.9.0->tabpfn) (2.1.1)\n",
      "Requirement already satisfied: mpmath>=0.19 in c:\\users\\user\\anaconda3\\envs\\icr2\\lib\\site-packages (from sympy->torch>=1.9.0->tabpfn) (1.3.0)\n"
     ]
    }
   ],
   "source": [
    "!pip install tabpfn"
   ]
  },
  {
   "cell_type": "markdown",
   "id": "baafc1f7",
   "metadata": {
    "papermill": {
     "duration": 0.013897,
     "end_time": "2023-07-08T12:20:23.016704",
     "exception": false,
     "start_time": "2023-07-08T12:20:23.002807",
     "status": "completed"
    },
    "tags": []
   },
   "source": [
    "# **Libraries**"
   ]
  },
  {
   "cell_type": "code",
   "execution_count": 2,
   "id": "d4e3ff90",
   "metadata": {
    "execution": {
     "iopub.execute_input": "2023-07-08T12:20:23.047483Z",
     "iopub.status.busy": "2023-07-08T12:20:23.046234Z",
     "iopub.status.idle": "2023-07-08T12:20:31.740890Z",
     "shell.execute_reply": "2023-07-08T12:20:31.739336Z"
    },
    "papermill": {
     "duration": 8.713026,
     "end_time": "2023-07-08T12:20:31.743937",
     "exception": false,
     "start_time": "2023-07-08T12:20:23.030911",
     "status": "completed"
    },
    "tags": []
   },
   "outputs": [],
   "source": [
    "import os\n",
    "import pandas as pd\n",
    "import numpy as np\n",
    "from sklearn.model_selection import train_test_split, KFold, StratifiedKFold, GridSearchCV\n",
    "from sklearn.metrics import log_loss\n",
    "from sklearn.preprocessing import LabelEncoder\n",
    "import matplotlib.pyplot as plt\n",
    "\n",
    "import seaborn as sns\n",
    "import xgboost as xgb\n",
    "\n",
    "from tabpfn import TabPFNClassifier\n",
    "\n",
    "import torch\n",
    "from tabpfn import TabPFNClassifier"
   ]
  },
  {
   "cell_type": "markdown",
   "id": "be04bc5c",
   "metadata": {
    "papermill": {
     "duration": 0.013633,
     "end_time": "2023-07-08T12:20:31.771965",
     "exception": false,
     "start_time": "2023-07-08T12:20:31.758332",
     "status": "completed"
    },
    "tags": []
   },
   "source": [
    "# **データのダウンロード**"
   ]
  },
  {
   "cell_type": "code",
   "execution_count": 3,
   "id": "5f58e72a",
   "metadata": {
    "execution": {
     "iopub.execute_input": "2023-07-08T12:20:31.803223Z",
     "iopub.status.busy": "2023-07-08T12:20:31.802233Z",
     "iopub.status.idle": "2023-07-08T12:20:31.878607Z",
     "shell.execute_reply": "2023-07-08T12:20:31.877178Z"
    },
    "papermill": {
     "duration": 0.096218,
     "end_time": "2023-07-08T12:20:31.881615",
     "exception": false,
     "start_time": "2023-07-08T12:20:31.785397",
     "status": "completed"
    },
    "tags": []
   },
   "outputs": [],
   "source": [
    "train_df  = pd.read_csv('./data/train.csv')\n",
    "test_df   = pd.read_csv('./data/test.csv')\n",
    "greeks_df = pd.read_csv('./data/greeks.csv')\n",
    "sample_submission = pd.read_csv('./data/sample_submission.csv')"
   ]
  },
  {
   "cell_type": "markdown",
   "id": "2cf1e6a6",
   "metadata": {
    "papermill": {
     "duration": 0.013604,
     "end_time": "2023-07-08T12:20:31.908598",
     "exception": false,
     "start_time": "2023-07-08T12:20:31.894994",
     "status": "completed"
    },
    "tags": []
   },
   "source": [
    "# **Auto Featで得た特徴量を追加してモデルを構築する**"
   ]
  },
  {
   "cell_type": "markdown",
   "id": "c8662fd6",
   "metadata": {
    "papermill": {
     "duration": 0.014155,
     "end_time": "2023-07-08T12:20:31.936987",
     "exception": false,
     "start_time": "2023-07-08T12:20:31.922832",
     "status": "completed"
    },
    "tags": []
   },
   "source": [
    "カテゴリ値を数字にする"
   ]
  },
  {
   "cell_type": "code",
   "execution_count": 4,
   "id": "2d4f78c8",
   "metadata": {
    "execution": {
     "iopub.execute_input": "2023-07-08T12:20:31.965294Z",
     "iopub.status.busy": "2023-07-08T12:20:31.964809Z",
     "iopub.status.idle": "2023-07-08T12:20:31.986427Z",
     "shell.execute_reply": "2023-07-08T12:20:31.985493Z"
    },
    "papermill": {
     "duration": 0.038405,
     "end_time": "2023-07-08T12:20:31.988703",
     "exception": false,
     "start_time": "2023-07-08T12:20:31.950298",
     "status": "completed"
    },
    "tags": []
   },
   "outputs": [
    {
     "data": {
      "text/plain": [
       "0      1\n",
       "1      0\n",
       "2      1\n",
       "3      1\n",
       "4      1\n",
       "      ..\n",
       "612    0\n",
       "613    1\n",
       "614    0\n",
       "615    1\n",
       "616    0\n",
       "Name: EJ, Length: 617, dtype: int64"
      ]
     },
     "execution_count": 4,
     "metadata": {},
     "output_type": "execute_result"
    }
   ],
   "source": [
    "train_df['EJ'] = train_df['EJ'].replace('A', 0).replace('B', 1)\n",
    "train_df['EJ']"
   ]
  },
  {
   "cell_type": "code",
   "execution_count": 5,
   "id": "d844009e",
   "metadata": {
    "execution": {
     "iopub.execute_input": "2023-07-08T12:20:32.019602Z",
     "iopub.status.busy": "2023-07-08T12:20:32.018714Z",
     "iopub.status.idle": "2023-07-08T12:20:32.029011Z",
     "shell.execute_reply": "2023-07-08T12:20:32.027468Z"
    },
    "papermill": {
     "duration": 0.029014,
     "end_time": "2023-07-08T12:20:32.031766",
     "exception": false,
     "start_time": "2023-07-08T12:20:32.002752",
     "status": "completed"
    },
    "tags": []
   },
   "outputs": [
    {
     "data": {
      "text/plain": [
       "0    0\n",
       "1    0\n",
       "2    0\n",
       "3    0\n",
       "4    0\n",
       "Name: EJ, dtype: int64"
      ]
     },
     "execution_count": 5,
     "metadata": {},
     "output_type": "execute_result"
    }
   ],
   "source": [
    "test_df['EJ'] = test_df['EJ'].replace('A', 0).replace('B', 1)\n",
    "test_df['EJ']"
   ]
  },
  {
   "cell_type": "markdown",
   "id": "bbd07b68",
   "metadata": {
    "papermill": {
     "duration": 0.015477,
     "end_time": "2023-07-08T12:20:32.061902",
     "exception": false,
     "start_time": "2023-07-08T12:20:32.046425",
     "status": "completed"
    },
    "tags": []
   },
   "source": [
    "外れ値のある行を削除する"
   ]
  },
  {
   "cell_type": "code",
   "execution_count": 6,
   "id": "efbbf1ec",
   "metadata": {
    "execution": {
     "iopub.execute_input": "2023-07-08T12:20:32.091087Z",
     "iopub.status.busy": "2023-07-08T12:20:32.090683Z",
     "iopub.status.idle": "2023-07-08T12:20:32.103064Z",
     "shell.execute_reply": "2023-07-08T12:20:32.101224Z"
    },
    "papermill": {
     "duration": 0.03005,
     "end_time": "2023-07-08T12:20:32.105698",
     "exception": false,
     "start_time": "2023-07-08T12:20:32.075648",
     "status": "completed"
    },
    "tags": []
   },
   "outputs": [],
   "source": [
    "train_df = train_df.drop(index=[160, 511])"
   ]
  },
  {
   "cell_type": "markdown",
   "id": "4761aec3",
   "metadata": {
    "papermill": {
     "duration": 0.013336,
     "end_time": "2023-07-08T12:20:32.133155",
     "exception": false,
     "start_time": "2023-07-08T12:20:32.119819",
     "status": "completed"
    },
    "tags": []
   },
   "source": [
    "欠損値を-999で補完する"
   ]
  },
  {
   "cell_type": "code",
   "execution_count": 7,
   "id": "a0464be3",
   "metadata": {
    "execution": {
     "iopub.execute_input": "2023-07-08T12:20:32.165832Z",
     "iopub.status.busy": "2023-07-08T12:20:32.164090Z",
     "iopub.status.idle": "2023-07-08T12:20:32.244530Z",
     "shell.execute_reply": "2023-07-08T12:20:32.243616Z"
    },
    "papermill": {
     "duration": 0.099465,
     "end_time": "2023-07-08T12:20:32.246807",
     "exception": false,
     "start_time": "2023-07-08T12:20:32.147342",
     "status": "completed"
    },
    "tags": []
   },
   "outputs": [
    {
     "data": {
      "text/html": [
       "<div>\n",
       "<style scoped>\n",
       "    .dataframe tbody tr th:only-of-type {\n",
       "        vertical-align: middle;\n",
       "    }\n",
       "\n",
       "    .dataframe tbody tr th {\n",
       "        vertical-align: top;\n",
       "    }\n",
       "\n",
       "    .dataframe thead th {\n",
       "        text-align: right;\n",
       "    }\n",
       "</style>\n",
       "<table border=\"1\" class=\"dataframe\">\n",
       "  <thead>\n",
       "    <tr style=\"text-align: right;\">\n",
       "      <th></th>\n",
       "      <th>Id</th>\n",
       "      <th>AB</th>\n",
       "      <th>AF</th>\n",
       "      <th>AH</th>\n",
       "      <th>AM</th>\n",
       "      <th>AR</th>\n",
       "      <th>AX</th>\n",
       "      <th>AY</th>\n",
       "      <th>AZ</th>\n",
       "      <th>BC</th>\n",
       "      <th>...</th>\n",
       "      <th>FL</th>\n",
       "      <th>FR</th>\n",
       "      <th>FS</th>\n",
       "      <th>GB</th>\n",
       "      <th>GE</th>\n",
       "      <th>GF</th>\n",
       "      <th>GH</th>\n",
       "      <th>GI</th>\n",
       "      <th>GL</th>\n",
       "      <th>Class</th>\n",
       "    </tr>\n",
       "  </thead>\n",
       "  <tbody>\n",
       "    <tr>\n",
       "      <th>0</th>\n",
       "      <td>000ff2bfdfe9</td>\n",
       "      <td>0.209377</td>\n",
       "      <td>3109.03329</td>\n",
       "      <td>85.200147</td>\n",
       "      <td>22.394407</td>\n",
       "      <td>8.138688</td>\n",
       "      <td>0.699861</td>\n",
       "      <td>0.025578</td>\n",
       "      <td>9.812214</td>\n",
       "      <td>5.555634</td>\n",
       "      <td>...</td>\n",
       "      <td>7.298162</td>\n",
       "      <td>1.73855</td>\n",
       "      <td>0.094822</td>\n",
       "      <td>11.339138</td>\n",
       "      <td>72.611063</td>\n",
       "      <td>2003.810319</td>\n",
       "      <td>22.136229</td>\n",
       "      <td>69.834944</td>\n",
       "      <td>0.120343</td>\n",
       "      <td>1</td>\n",
       "    </tr>\n",
       "    <tr>\n",
       "      <th>1</th>\n",
       "      <td>007255e47698</td>\n",
       "      <td>0.145282</td>\n",
       "      <td>978.76416</td>\n",
       "      <td>85.200147</td>\n",
       "      <td>36.968889</td>\n",
       "      <td>8.138688</td>\n",
       "      <td>3.632190</td>\n",
       "      <td>0.025578</td>\n",
       "      <td>13.517790</td>\n",
       "      <td>1.229900</td>\n",
       "      <td>...</td>\n",
       "      <td>0.173229</td>\n",
       "      <td>0.49706</td>\n",
       "      <td>0.568932</td>\n",
       "      <td>9.292698</td>\n",
       "      <td>72.611063</td>\n",
       "      <td>27981.562750</td>\n",
       "      <td>29.135430</td>\n",
       "      <td>32.131996</td>\n",
       "      <td>21.978000</td>\n",
       "      <td>0</td>\n",
       "    </tr>\n",
       "    <tr>\n",
       "      <th>2</th>\n",
       "      <td>013f2bd269f5</td>\n",
       "      <td>0.470030</td>\n",
       "      <td>2635.10654</td>\n",
       "      <td>85.200147</td>\n",
       "      <td>32.360553</td>\n",
       "      <td>8.138688</td>\n",
       "      <td>6.732840</td>\n",
       "      <td>0.025578</td>\n",
       "      <td>12.824570</td>\n",
       "      <td>1.229900</td>\n",
       "      <td>...</td>\n",
       "      <td>7.709560</td>\n",
       "      <td>0.97556</td>\n",
       "      <td>1.198821</td>\n",
       "      <td>37.077772</td>\n",
       "      <td>88.609437</td>\n",
       "      <td>13676.957810</td>\n",
       "      <td>28.022851</td>\n",
       "      <td>35.192676</td>\n",
       "      <td>0.196941</td>\n",
       "      <td>0</td>\n",
       "    </tr>\n",
       "    <tr>\n",
       "      <th>3</th>\n",
       "      <td>043ac50845d5</td>\n",
       "      <td>0.252107</td>\n",
       "      <td>3819.65177</td>\n",
       "      <td>120.201618</td>\n",
       "      <td>77.112203</td>\n",
       "      <td>8.138688</td>\n",
       "      <td>3.685344</td>\n",
       "      <td>0.025578</td>\n",
       "      <td>11.053708</td>\n",
       "      <td>1.229900</td>\n",
       "      <td>...</td>\n",
       "      <td>6.122162</td>\n",
       "      <td>0.49706</td>\n",
       "      <td>0.284466</td>\n",
       "      <td>18.529584</td>\n",
       "      <td>82.416803</td>\n",
       "      <td>2094.262452</td>\n",
       "      <td>39.948656</td>\n",
       "      <td>90.493248</td>\n",
       "      <td>0.155829</td>\n",
       "      <td>0</td>\n",
       "    </tr>\n",
       "    <tr>\n",
       "      <th>4</th>\n",
       "      <td>044fb8a146ec</td>\n",
       "      <td>0.380297</td>\n",
       "      <td>3733.04844</td>\n",
       "      <td>85.200147</td>\n",
       "      <td>14.103738</td>\n",
       "      <td>8.138688</td>\n",
       "      <td>3.942255</td>\n",
       "      <td>0.054810</td>\n",
       "      <td>3.396778</td>\n",
       "      <td>102.151980</td>\n",
       "      <td>...</td>\n",
       "      <td>8.153058</td>\n",
       "      <td>48.50134</td>\n",
       "      <td>0.121914</td>\n",
       "      <td>16.408728</td>\n",
       "      <td>146.109943</td>\n",
       "      <td>8524.370502</td>\n",
       "      <td>45.381316</td>\n",
       "      <td>36.262628</td>\n",
       "      <td>0.096614</td>\n",
       "      <td>1</td>\n",
       "    </tr>\n",
       "  </tbody>\n",
       "</table>\n",
       "<p>5 rows × 58 columns</p>\n",
       "</div>"
      ],
      "text/plain": [
       "             Id        AB          AF          AH         AM        AR  \\\n",
       "0  000ff2bfdfe9  0.209377  3109.03329   85.200147  22.394407  8.138688   \n",
       "1  007255e47698  0.145282   978.76416   85.200147  36.968889  8.138688   \n",
       "2  013f2bd269f5  0.470030  2635.10654   85.200147  32.360553  8.138688   \n",
       "3  043ac50845d5  0.252107  3819.65177  120.201618  77.112203  8.138688   \n",
       "4  044fb8a146ec  0.380297  3733.04844   85.200147  14.103738  8.138688   \n",
       "\n",
       "         AX        AY         AZ          BC  ...        FL        FR  \\\n",
       "0  0.699861  0.025578   9.812214    5.555634  ...  7.298162   1.73855   \n",
       "1  3.632190  0.025578  13.517790    1.229900  ...  0.173229   0.49706   \n",
       "2  6.732840  0.025578  12.824570    1.229900  ...  7.709560   0.97556   \n",
       "3  3.685344  0.025578  11.053708    1.229900  ...  6.122162   0.49706   \n",
       "4  3.942255  0.054810   3.396778  102.151980  ...  8.153058  48.50134   \n",
       "\n",
       "         FS         GB          GE            GF         GH         GI  \\\n",
       "0  0.094822  11.339138   72.611063   2003.810319  22.136229  69.834944   \n",
       "1  0.568932   9.292698   72.611063  27981.562750  29.135430  32.131996   \n",
       "2  1.198821  37.077772   88.609437  13676.957810  28.022851  35.192676   \n",
       "3  0.284466  18.529584   82.416803   2094.262452  39.948656  90.493248   \n",
       "4  0.121914  16.408728  146.109943   8524.370502  45.381316  36.262628   \n",
       "\n",
       "          GL  Class  \n",
       "0   0.120343      1  \n",
       "1  21.978000      0  \n",
       "2   0.196941      0  \n",
       "3   0.155829      0  \n",
       "4   0.096614      1  \n",
       "\n",
       "[5 rows x 58 columns]"
      ]
     },
     "execution_count": 7,
     "metadata": {},
     "output_type": "execute_result"
    }
   ],
   "source": [
    "train_df.head()"
   ]
  },
  {
   "cell_type": "markdown",
   "id": "11bb9057",
   "metadata": {
    "papermill": {
     "duration": 0.016614,
     "end_time": "2023-07-08T12:20:32.279012",
     "exception": false,
     "start_time": "2023-07-08T12:20:32.262398",
     "status": "completed"
    },
    "tags": []
   },
   "source": [
    "カラム名の不要なスペースを削除する"
   ]
  },
  {
   "cell_type": "code",
   "execution_count": 8,
   "id": "7d2729f0",
   "metadata": {
    "execution": {
     "iopub.execute_input": "2023-07-08T12:20:32.311597Z",
     "iopub.status.busy": "2023-07-08T12:20:32.311183Z",
     "iopub.status.idle": "2023-07-08T12:20:32.318487Z",
     "shell.execute_reply": "2023-07-08T12:20:32.316937Z"
    },
    "papermill": {
     "duration": 0.028022,
     "end_time": "2023-07-08T12:20:32.321336",
     "exception": false,
     "start_time": "2023-07-08T12:20:32.293314",
     "status": "completed"
    },
    "tags": []
   },
   "outputs": [],
   "source": [
    "train_df.columns = train_df.columns.str.strip()\n",
    "test_df.columns = test_df.columns.str.strip()"
   ]
  },
  {
   "cell_type": "code",
   "execution_count": 9,
   "id": "ad6d7968",
   "metadata": {
    "execution": {
     "iopub.execute_input": "2023-07-08T12:20:32.354526Z",
     "iopub.status.busy": "2023-07-08T12:20:32.354069Z",
     "iopub.status.idle": "2023-07-08T12:20:32.361102Z",
     "shell.execute_reply": "2023-07-08T12:20:32.359728Z"
    },
    "papermill": {
     "duration": 0.02691,
     "end_time": "2023-07-08T12:20:32.363598",
     "exception": false,
     "start_time": "2023-07-08T12:20:32.336688",
     "status": "completed"
    },
    "tags": []
   },
   "outputs": [
    {
     "name": "stdout",
     "output_type": "stream",
     "text": [
      "['AB', 'AF', 'AH', 'AM', 'AR', 'AX', 'AY', 'AZ', 'BC', 'BD', 'BN', 'BP', 'BQ', 'BR', 'BZ', 'CB', 'CC', 'CD', 'CF', 'CH', 'CL', 'CR', 'CS', 'CU', 'CW', 'DA', 'DE', 'DF', 'DH', 'DI', 'DL', 'DN', 'DU', 'DV', 'DY', 'EB', 'EE', 'EG', 'EH', 'EJ', 'EL', 'EP', 'EU', 'FC', 'FD', 'FE', 'FI', 'FL', 'FR', 'FS', 'GB', 'GE', 'GF', 'GH', 'GI', 'GL']\n"
     ]
    }
   ],
   "source": [
    "all_cols = train_df.columns\n",
    "non_use_cols = ['Id', 'Class']\n",
    "feature_cols = [col for col in all_cols if col not in non_use_cols]\n",
    "print(feature_cols)"
   ]
  },
  {
   "cell_type": "code",
   "execution_count": 10,
   "id": "3640d4e2",
   "metadata": {
    "execution": {
     "iopub.execute_input": "2023-07-08T12:20:32.396573Z",
     "iopub.status.busy": "2023-07-08T12:20:32.396085Z",
     "iopub.status.idle": "2023-07-08T12:20:32.437052Z",
     "shell.execute_reply": "2023-07-08T12:20:32.435186Z"
    },
    "papermill": {
     "duration": 0.061101,
     "end_time": "2023-07-08T12:20:32.439960",
     "exception": false,
     "start_time": "2023-07-08T12:20:32.378859",
     "status": "completed"
    },
    "tags": []
   },
   "outputs": [],
   "source": [
    "train_df[feature_cols] = train_df[feature_cols].fillna(-999)\n",
    "test_df[feature_cols] = test_df[feature_cols].fillna(-999)"
   ]
  },
  {
   "cell_type": "markdown",
   "id": "7e572971",
   "metadata": {
    "papermill": {
     "duration": 0.014454,
     "end_time": "2023-07-08T12:20:32.468992",
     "exception": false,
     "start_time": "2023-07-08T12:20:32.454538",
     "status": "completed"
    },
    "tags": []
   },
   "source": [
    "'sqrt(EH)/GL', 'FE/DA', 'AB/FS', 'log(FR)/FE', 'log(DY)/CC'\n",
    "\n",
    "を特徴量に追加する。(ICR AutoFeatより）"
   ]
  },
  {
   "cell_type": "code",
   "execution_count": 11,
   "id": "6a26f4ab",
   "metadata": {
    "execution": {
     "iopub.execute_input": "2023-07-08T12:20:32.502296Z",
     "iopub.status.busy": "2023-07-08T12:20:32.501775Z",
     "iopub.status.idle": "2023-07-08T12:20:32.603477Z",
     "shell.execute_reply": "2023-07-08T12:20:32.602137Z"
    },
    "papermill": {
     "duration": 0.120383,
     "end_time": "2023-07-08T12:20:32.606154",
     "exception": false,
     "start_time": "2023-07-08T12:20:32.485771",
     "status": "completed"
    },
    "tags": []
   },
   "outputs": [
    {
     "data": {
      "text/html": [
       "<div>\n",
       "<style scoped>\n",
       "    .dataframe tbody tr th:only-of-type {\n",
       "        vertical-align: middle;\n",
       "    }\n",
       "\n",
       "    .dataframe tbody tr th {\n",
       "        vertical-align: top;\n",
       "    }\n",
       "\n",
       "    .dataframe thead th {\n",
       "        text-align: right;\n",
       "    }\n",
       "</style>\n",
       "<table border=\"1\" class=\"dataframe\">\n",
       "  <thead>\n",
       "    <tr style=\"text-align: right;\">\n",
       "      <th></th>\n",
       "      <th>Id</th>\n",
       "      <th>AB</th>\n",
       "      <th>AF</th>\n",
       "      <th>AH</th>\n",
       "      <th>AM</th>\n",
       "      <th>AR</th>\n",
       "      <th>AX</th>\n",
       "      <th>AY</th>\n",
       "      <th>AZ</th>\n",
       "      <th>BC</th>\n",
       "      <th>...</th>\n",
       "      <th>GF</th>\n",
       "      <th>GH</th>\n",
       "      <th>GI</th>\n",
       "      <th>GL</th>\n",
       "      <th>Class</th>\n",
       "      <th>sqrt(EH)/GL</th>\n",
       "      <th>FE/DA</th>\n",
       "      <th>AB/FS</th>\n",
       "      <th>log(FR)/FE</th>\n",
       "      <th>log(DY)/CC</th>\n",
       "    </tr>\n",
       "  </thead>\n",
       "  <tbody>\n",
       "    <tr>\n",
       "      <th>0</th>\n",
       "      <td>000ff2bfdfe9</td>\n",
       "      <td>0.209377</td>\n",
       "      <td>3109.03329</td>\n",
       "      <td>85.200147</td>\n",
       "      <td>22.394407</td>\n",
       "      <td>8.138688</td>\n",
       "      <td>0.699861</td>\n",
       "      <td>0.025578</td>\n",
       "      <td>9.812214</td>\n",
       "      <td>5.555634</td>\n",
       "      <td>...</td>\n",
       "      <td>2003.810319</td>\n",
       "      <td>22.136229</td>\n",
       "      <td>69.834944</td>\n",
       "      <td>0.120343</td>\n",
       "      <td>1</td>\n",
       "      <td>8.095368</td>\n",
       "      <td>130.686850</td>\n",
       "      <td>2.208106</td>\n",
       "      <td>0.000061</td>\n",
       "      <td>5.578935</td>\n",
       "    </tr>\n",
       "    <tr>\n",
       "      <th>1</th>\n",
       "      <td>007255e47698</td>\n",
       "      <td>0.145282</td>\n",
       "      <td>978.76416</td>\n",
       "      <td>85.200147</td>\n",
       "      <td>36.968889</td>\n",
       "      <td>8.138688</td>\n",
       "      <td>3.632190</td>\n",
       "      <td>0.025578</td>\n",
       "      <td>13.517790</td>\n",
       "      <td>1.229900</td>\n",
       "      <td>...</td>\n",
       "      <td>27981.562750</td>\n",
       "      <td>29.135430</td>\n",
       "      <td>32.131996</td>\n",
       "      <td>21.978000</td>\n",
       "      <td>0</td>\n",
       "      <td>0.002510</td>\n",
       "      <td>95.835602</td>\n",
       "      <td>0.255359</td>\n",
       "      <td>-0.000103</td>\n",
       "      <td>5.871977</td>\n",
       "    </tr>\n",
       "    <tr>\n",
       "      <th>2</th>\n",
       "      <td>013f2bd269f5</td>\n",
       "      <td>0.470030</td>\n",
       "      <td>2635.10654</td>\n",
       "      <td>85.200147</td>\n",
       "      <td>32.360553</td>\n",
       "      <td>8.138688</td>\n",
       "      <td>6.732840</td>\n",
       "      <td>0.025578</td>\n",
       "      <td>12.824570</td>\n",
       "      <td>1.229900</td>\n",
       "      <td>...</td>\n",
       "      <td>13676.957810</td>\n",
       "      <td>28.022851</td>\n",
       "      <td>35.192676</td>\n",
       "      <td>0.196941</td>\n",
       "      <td>0</td>\n",
       "      <td>3.118559</td>\n",
       "      <td>117.748397</td>\n",
       "      <td>0.392077</td>\n",
       "      <td>-0.000003</td>\n",
       "      <td>7.274684</td>\n",
       "    </tr>\n",
       "    <tr>\n",
       "      <th>3</th>\n",
       "      <td>043ac50845d5</td>\n",
       "      <td>0.252107</td>\n",
       "      <td>3819.65177</td>\n",
       "      <td>120.201618</td>\n",
       "      <td>77.112203</td>\n",
       "      <td>8.138688</td>\n",
       "      <td>3.685344</td>\n",
       "      <td>0.025578</td>\n",
       "      <td>11.053708</td>\n",
       "      <td>1.229900</td>\n",
       "      <td>...</td>\n",
       "      <td>2094.262452</td>\n",
       "      <td>39.948656</td>\n",
       "      <td>90.493248</td>\n",
       "      <td>0.155829</td>\n",
       "      <td>0</td>\n",
       "      <td>5.030466</td>\n",
       "      <td>231.952756</td>\n",
       "      <td>0.886247</td>\n",
       "      <td>-0.000064</td>\n",
       "      <td>5.504133</td>\n",
       "    </tr>\n",
       "    <tr>\n",
       "      <th>4</th>\n",
       "      <td>044fb8a146ec</td>\n",
       "      <td>0.380297</td>\n",
       "      <td>3733.04844</td>\n",
       "      <td>85.200147</td>\n",
       "      <td>14.103738</td>\n",
       "      <td>8.138688</td>\n",
       "      <td>3.942255</td>\n",
       "      <td>0.054810</td>\n",
       "      <td>3.396778</td>\n",
       "      <td>102.151980</td>\n",
       "      <td>...</td>\n",
       "      <td>8524.370502</td>\n",
       "      <td>45.381316</td>\n",
       "      <td>36.262628</td>\n",
       "      <td>0.096614</td>\n",
       "      <td>1</td>\n",
       "      <td>4.195023</td>\n",
       "      <td>218.699515</td>\n",
       "      <td>3.119387</td>\n",
       "      <td>0.000240</td>\n",
       "      <td>4.109116</td>\n",
       "    </tr>\n",
       "  </tbody>\n",
       "</table>\n",
       "<p>5 rows × 63 columns</p>\n",
       "</div>"
      ],
      "text/plain": [
       "             Id        AB          AF          AH         AM        AR  \\\n",
       "0  000ff2bfdfe9  0.209377  3109.03329   85.200147  22.394407  8.138688   \n",
       "1  007255e47698  0.145282   978.76416   85.200147  36.968889  8.138688   \n",
       "2  013f2bd269f5  0.470030  2635.10654   85.200147  32.360553  8.138688   \n",
       "3  043ac50845d5  0.252107  3819.65177  120.201618  77.112203  8.138688   \n",
       "4  044fb8a146ec  0.380297  3733.04844   85.200147  14.103738  8.138688   \n",
       "\n",
       "         AX        AY         AZ          BC  ...            GF         GH  \\\n",
       "0  0.699861  0.025578   9.812214    5.555634  ...   2003.810319  22.136229   \n",
       "1  3.632190  0.025578  13.517790    1.229900  ...  27981.562750  29.135430   \n",
       "2  6.732840  0.025578  12.824570    1.229900  ...  13676.957810  28.022851   \n",
       "3  3.685344  0.025578  11.053708    1.229900  ...   2094.262452  39.948656   \n",
       "4  3.942255  0.054810   3.396778  102.151980  ...   8524.370502  45.381316   \n",
       "\n",
       "          GI         GL  Class  sqrt(EH)/GL       FE/DA     AB/FS  log(FR)/FE  \\\n",
       "0  69.834944   0.120343      1     8.095368  130.686850  2.208106    0.000061   \n",
       "1  32.131996  21.978000      0     0.002510   95.835602  0.255359   -0.000103   \n",
       "2  35.192676   0.196941      0     3.118559  117.748397  0.392077   -0.000003   \n",
       "3  90.493248   0.155829      0     5.030466  231.952756  0.886247   -0.000064   \n",
       "4  36.262628   0.096614      1     4.195023  218.699515  3.119387    0.000240   \n",
       "\n",
       "   log(DY)/CC  \n",
       "0    5.578935  \n",
       "1    5.871977  \n",
       "2    7.274684  \n",
       "3    5.504133  \n",
       "4    4.109116  \n",
       "\n",
       "[5 rows x 63 columns]"
      ]
     },
     "execution_count": 11,
     "metadata": {},
     "output_type": "execute_result"
    }
   ],
   "source": [
    "train_df['sqrt(EH)/GL'] = np.sqrt(train_df['EH']) / train_df['GL']\n",
    "train_df['FE/DA'] = train_df['FE'] / train_df['DA']\n",
    "train_df['AB/FS'] = train_df['AB'] / train_df['FS']\n",
    "train_df['log(FR)/FE'] = np.log(train_df['FR']) / train_df['FE']\n",
    "train_df['log(DY)/CC'] = np.log(train_df['DY']) / train_df['CC']\n",
    "\n",
    "train_df.head()"
   ]
  },
  {
   "cell_type": "code",
   "execution_count": 12,
   "id": "5dd1fae5",
   "metadata": {
    "execution": {
     "iopub.execute_input": "2023-07-08T12:20:32.639871Z",
     "iopub.status.busy": "2023-07-08T12:20:32.639472Z",
     "iopub.status.idle": "2023-07-08T12:20:32.753049Z",
     "shell.execute_reply": "2023-07-08T12:20:32.751469Z"
    },
    "papermill": {
     "duration": 0.134029,
     "end_time": "2023-07-08T12:20:32.755688",
     "exception": false,
     "start_time": "2023-07-08T12:20:32.621659",
     "status": "completed"
    },
    "tags": []
   },
   "outputs": [
    {
     "name": "stderr",
     "output_type": "stream",
     "text": [
      "C:\\Users\\user\\anaconda3\\envs\\ICR2\\lib\\site-packages\\pandas\\core\\arraylike.py:402: RuntimeWarning: divide by zero encountered in log\n",
      "  result = getattr(ufunc, method)(*inputs, **kwargs)\n",
      "C:\\Users\\user\\anaconda3\\envs\\ICR2\\lib\\site-packages\\pandas\\core\\arraylike.py:402: RuntimeWarning: divide by zero encountered in log\n",
      "  result = getattr(ufunc, method)(*inputs, **kwargs)\n"
     ]
    },
    {
     "data": {
      "text/html": [
       "<div>\n",
       "<style scoped>\n",
       "    .dataframe tbody tr th:only-of-type {\n",
       "        vertical-align: middle;\n",
       "    }\n",
       "\n",
       "    .dataframe tbody tr th {\n",
       "        vertical-align: top;\n",
       "    }\n",
       "\n",
       "    .dataframe thead th {\n",
       "        text-align: right;\n",
       "    }\n",
       "</style>\n",
       "<table border=\"1\" class=\"dataframe\">\n",
       "  <thead>\n",
       "    <tr style=\"text-align: right;\">\n",
       "      <th></th>\n",
       "      <th>Id</th>\n",
       "      <th>AB</th>\n",
       "      <th>AF</th>\n",
       "      <th>AH</th>\n",
       "      <th>AM</th>\n",
       "      <th>AR</th>\n",
       "      <th>AX</th>\n",
       "      <th>AY</th>\n",
       "      <th>AZ</th>\n",
       "      <th>BC</th>\n",
       "      <th>...</th>\n",
       "      <th>GE</th>\n",
       "      <th>GF</th>\n",
       "      <th>GH</th>\n",
       "      <th>GI</th>\n",
       "      <th>GL</th>\n",
       "      <th>sqrt(EH)/GL</th>\n",
       "      <th>FE/DA</th>\n",
       "      <th>AB/FS</th>\n",
       "      <th>log(FR)/FE</th>\n",
       "      <th>log(DY)/CC</th>\n",
       "    </tr>\n",
       "  </thead>\n",
       "  <tbody>\n",
       "    <tr>\n",
       "      <th>0</th>\n",
       "      <td>00eed32682bb</td>\n",
       "      <td>0.0</td>\n",
       "      <td>0.0</td>\n",
       "      <td>0.0</td>\n",
       "      <td>0.0</td>\n",
       "      <td>0.0</td>\n",
       "      <td>0.0</td>\n",
       "      <td>0.0</td>\n",
       "      <td>0.0</td>\n",
       "      <td>0.0</td>\n",
       "      <td>...</td>\n",
       "      <td>0.0</td>\n",
       "      <td>0.0</td>\n",
       "      <td>0.0</td>\n",
       "      <td>0.0</td>\n",
       "      <td>0.0</td>\n",
       "      <td>NaN</td>\n",
       "      <td>NaN</td>\n",
       "      <td>NaN</td>\n",
       "      <td>-inf</td>\n",
       "      <td>-inf</td>\n",
       "    </tr>\n",
       "    <tr>\n",
       "      <th>1</th>\n",
       "      <td>010ebe33f668</td>\n",
       "      <td>0.0</td>\n",
       "      <td>0.0</td>\n",
       "      <td>0.0</td>\n",
       "      <td>0.0</td>\n",
       "      <td>0.0</td>\n",
       "      <td>0.0</td>\n",
       "      <td>0.0</td>\n",
       "      <td>0.0</td>\n",
       "      <td>0.0</td>\n",
       "      <td>...</td>\n",
       "      <td>0.0</td>\n",
       "      <td>0.0</td>\n",
       "      <td>0.0</td>\n",
       "      <td>0.0</td>\n",
       "      <td>0.0</td>\n",
       "      <td>NaN</td>\n",
       "      <td>NaN</td>\n",
       "      <td>NaN</td>\n",
       "      <td>-inf</td>\n",
       "      <td>-inf</td>\n",
       "    </tr>\n",
       "    <tr>\n",
       "      <th>2</th>\n",
       "      <td>02fa521e1838</td>\n",
       "      <td>0.0</td>\n",
       "      <td>0.0</td>\n",
       "      <td>0.0</td>\n",
       "      <td>0.0</td>\n",
       "      <td>0.0</td>\n",
       "      <td>0.0</td>\n",
       "      <td>0.0</td>\n",
       "      <td>0.0</td>\n",
       "      <td>0.0</td>\n",
       "      <td>...</td>\n",
       "      <td>0.0</td>\n",
       "      <td>0.0</td>\n",
       "      <td>0.0</td>\n",
       "      <td>0.0</td>\n",
       "      <td>0.0</td>\n",
       "      <td>NaN</td>\n",
       "      <td>NaN</td>\n",
       "      <td>NaN</td>\n",
       "      <td>-inf</td>\n",
       "      <td>-inf</td>\n",
       "    </tr>\n",
       "    <tr>\n",
       "      <th>3</th>\n",
       "      <td>040e15f562a2</td>\n",
       "      <td>0.0</td>\n",
       "      <td>0.0</td>\n",
       "      <td>0.0</td>\n",
       "      <td>0.0</td>\n",
       "      <td>0.0</td>\n",
       "      <td>0.0</td>\n",
       "      <td>0.0</td>\n",
       "      <td>0.0</td>\n",
       "      <td>0.0</td>\n",
       "      <td>...</td>\n",
       "      <td>0.0</td>\n",
       "      <td>0.0</td>\n",
       "      <td>0.0</td>\n",
       "      <td>0.0</td>\n",
       "      <td>0.0</td>\n",
       "      <td>NaN</td>\n",
       "      <td>NaN</td>\n",
       "      <td>NaN</td>\n",
       "      <td>-inf</td>\n",
       "      <td>-inf</td>\n",
       "    </tr>\n",
       "    <tr>\n",
       "      <th>4</th>\n",
       "      <td>046e85c7cc7f</td>\n",
       "      <td>0.0</td>\n",
       "      <td>0.0</td>\n",
       "      <td>0.0</td>\n",
       "      <td>0.0</td>\n",
       "      <td>0.0</td>\n",
       "      <td>0.0</td>\n",
       "      <td>0.0</td>\n",
       "      <td>0.0</td>\n",
       "      <td>0.0</td>\n",
       "      <td>...</td>\n",
       "      <td>0.0</td>\n",
       "      <td>0.0</td>\n",
       "      <td>0.0</td>\n",
       "      <td>0.0</td>\n",
       "      <td>0.0</td>\n",
       "      <td>NaN</td>\n",
       "      <td>NaN</td>\n",
       "      <td>NaN</td>\n",
       "      <td>-inf</td>\n",
       "      <td>-inf</td>\n",
       "    </tr>\n",
       "  </tbody>\n",
       "</table>\n",
       "<p>5 rows × 62 columns</p>\n",
       "</div>"
      ],
      "text/plain": [
       "             Id   AB   AF   AH   AM   AR   AX   AY   AZ   BC  ...   GE   GF  \\\n",
       "0  00eed32682bb  0.0  0.0  0.0  0.0  0.0  0.0  0.0  0.0  0.0  ...  0.0  0.0   \n",
       "1  010ebe33f668  0.0  0.0  0.0  0.0  0.0  0.0  0.0  0.0  0.0  ...  0.0  0.0   \n",
       "2  02fa521e1838  0.0  0.0  0.0  0.0  0.0  0.0  0.0  0.0  0.0  ...  0.0  0.0   \n",
       "3  040e15f562a2  0.0  0.0  0.0  0.0  0.0  0.0  0.0  0.0  0.0  ...  0.0  0.0   \n",
       "4  046e85c7cc7f  0.0  0.0  0.0  0.0  0.0  0.0  0.0  0.0  0.0  ...  0.0  0.0   \n",
       "\n",
       "    GH   GI   GL  sqrt(EH)/GL  FE/DA  AB/FS  log(FR)/FE  log(DY)/CC  \n",
       "0  0.0  0.0  0.0          NaN    NaN    NaN        -inf        -inf  \n",
       "1  0.0  0.0  0.0          NaN    NaN    NaN        -inf        -inf  \n",
       "2  0.0  0.0  0.0          NaN    NaN    NaN        -inf        -inf  \n",
       "3  0.0  0.0  0.0          NaN    NaN    NaN        -inf        -inf  \n",
       "4  0.0  0.0  0.0          NaN    NaN    NaN        -inf        -inf  \n",
       "\n",
       "[5 rows x 62 columns]"
      ]
     },
     "execution_count": 12,
     "metadata": {},
     "output_type": "execute_result"
    }
   ],
   "source": [
    "test_df['sqrt(EH)/GL'] = np.sqrt(test_df['EH']) / test_df['GL']\n",
    "test_df['FE/DA'] = test_df['FE'] / test_df['DA']\n",
    "test_df['AB/FS'] = test_df['AB'] / test_df['FS']\n",
    "test_df['log(FR)/FE'] = np.log(test_df['FR']) / test_df['FE']\n",
    "test_df['log(DY)/CC'] = np.log(test_df['DY']) / test_df['CC']\n",
    "\n",
    "test_df.head()"
   ]
  },
  {
   "cell_type": "markdown",
   "id": "5a109674",
   "metadata": {
    "papermill": {
     "duration": 0.017808,
     "end_time": "2023-07-08T12:20:32.790094",
     "exception": false,
     "start_time": "2023-07-08T12:20:32.772286",
     "status": "completed"
    },
    "tags": []
   },
   "source": [
    "# **XGBoostを使ってモデルを構築する**"
   ]
  },
  {
   "cell_type": "code",
   "execution_count": 13,
   "id": "c907c243",
   "metadata": {
    "execution": {
     "iopub.execute_input": "2023-07-08T12:20:32.825272Z",
     "iopub.status.busy": "2023-07-08T12:20:32.824784Z",
     "iopub.status.idle": "2023-07-08T12:20:32.831339Z",
     "shell.execute_reply": "2023-07-08T12:20:32.830145Z"
    },
    "papermill": {
     "duration": 0.027427,
     "end_time": "2023-07-08T12:20:32.834060",
     "exception": false,
     "start_time": "2023-07-08T12:20:32.806633",
     "status": "completed"
    },
    "tags": []
   },
   "outputs": [
    {
     "name": "stdout",
     "output_type": "stream",
     "text": [
      "['AB', 'AF', 'AH', 'AM', 'AR', 'AX', 'AY', 'AZ', 'BC', 'BD', 'BN', 'BP', 'BQ', 'BR', 'BZ', 'CB', 'CC', 'CD', 'CF', 'CH', 'CL', 'CR', 'CS', 'CU', 'CW', 'DA', 'DE', 'DF', 'DH', 'DI', 'DL', 'DN', 'DU', 'DV', 'DY', 'EB', 'EE', 'EG', 'EH', 'EJ', 'EL', 'EP', 'EU', 'FC', 'FD', 'FE', 'FI', 'FL', 'FR', 'FS', 'GB', 'GE', 'GF', 'GH', 'GI', 'GL', 'sqrt(EH)/GL', 'FE/DA', 'AB/FS', 'log(FR)/FE', 'log(DY)/CC']\n"
     ]
    }
   ],
   "source": [
    "all_cols2 = train_df.columns\n",
    "non_use_cols = ['Id', 'Class']\n",
    "feature_cols2 = [col for col in all_cols2 if col not in non_use_cols]\n",
    "print(feature_cols2)"
   ]
  },
  {
   "cell_type": "code",
   "execution_count": 14,
   "id": "1195592b",
   "metadata": {
    "execution": {
     "iopub.execute_input": "2023-07-08T12:20:32.871242Z",
     "iopub.status.busy": "2023-07-08T12:20:32.870769Z",
     "iopub.status.idle": "2023-07-08T12:26:29.138160Z",
     "shell.execute_reply": "2023-07-08T12:26:29.136703Z"
    },
    "papermill": {
     "duration": 356.296378,
     "end_time": "2023-07-08T12:26:29.147895",
     "exception": false,
     "start_time": "2023-07-08T12:20:32.851517",
     "status": "completed"
    },
    "tags": []
   },
   "outputs": [
    {
     "name": "stdout",
     "output_type": "stream",
     "text": [
      "Best Parameters: {'colsample_bytree': 0.8, 'max_depth': 3, 'min_child_weight': 1, 'subsample': 0.6}\n",
      "Best Parameters: {'colsample_bytree': 0.6, 'max_depth': 5, 'min_child_weight': 3, 'subsample': 0.8}\n",
      "Best Parameters: {'colsample_bytree': 0.6, 'max_depth': 3, 'min_child_weight': 1, 'subsample': 1.0}\n",
      "Best Parameters: {'colsample_bytree': 0.6, 'max_depth': 5, 'min_child_weight': 1, 'subsample': 0.8}\n",
      "Best Parameters: {'colsample_bytree': 0.6, 'max_depth': 5, 'min_child_weight': 3, 'subsample': 0.8}\n",
      "Logloss_Score 1: 0.18083199485591722\n",
      "Logloss_Score 2: 0.09486713780477642\n",
      "Logloss_Score 3: 0.31310565488104575\n",
      "Logloss_Score 4: 0.18415586200930917\n",
      "Logloss_Score 5: 0.18916529029464624\n",
      "Logloss_mean: 0.19242518796913896\n"
     ]
    }
   ],
   "source": [
    "y = train_df['Class']\n",
    "x = train_df[feature_cols2]\n",
    "\n",
    "params = {\n",
    "    'objective': 'binary:logistic',\n",
    "    'eval_metric': 'logloss',\n",
    "    'eta': 0.1,\n",
    "}\n",
    "\n",
    "skf = StratifiedKFold(n_splits=5, shuffle=True, random_state=42)\n",
    "\n",
    "# ベストモデルを使用して評価\n",
    "scores = []\n",
    "for train_index, test_index in skf.split(x, y):\n",
    "    X_train, X_test = x.iloc[train_index], x.iloc[test_index]\n",
    "    y_train, y_test = y.iloc[train_index], y.iloc[test_index]\n",
    "    \n",
    "    model = xgb.XGBClassifier(**params)\n",
    "    # ハイパーパラメータのグリッドを定義\n",
    "    param_grid = {\n",
    "        'max_depth': [3, 5, 7],\n",
    "        'subsample': [0.6, 0.8, 1.0],\n",
    "        'colsample_bytree': [0.6, 0.8, 1.0],\n",
    "        'min_child_weight': [1, 3, 5]\n",
    "    }\n",
    "    \n",
    "    # GridSearchCVを使用してハイパーパラメータのチューニング\n",
    "    grid_search = GridSearchCV(estimator=model, param_grid=param_grid, scoring='neg_log_loss', cv=5)\n",
    "    grid_search.fit(X_train, y_train)\n",
    "    \n",
    "    # 最適なモデルとハイパーパラメータを取得\n",
    "    best_model = grid_search.best_estimator_\n",
    "    best_params = grid_search.best_params_\n",
    "    \n",
    "    print(\"Best Parameters:\", best_params)\n",
    "    \n",
    "    best_model.fit(X_train, y_train)\n",
    "    y_pred = best_model.predict_proba(X_test)[:, 1]\n",
    "    score = log_loss(y_test, y_pred)\n",
    "    scores.append(score)\n",
    "    \n",
    "mean_score = sum(scores) / len(scores)\n",
    "for i, score in enumerate(scores):\n",
    "    print(f'Logloss_Score {i+1}: {score}')\n",
    "\n",
    "print(f'Logloss_mean: {mean_score}')"
   ]
  },
  {
   "cell_type": "code",
   "execution_count": 15,
   "id": "adfa5d31",
   "metadata": {
    "execution": {
     "iopub.execute_input": "2023-07-08T12:26:29.183694Z",
     "iopub.status.busy": "2023-07-08T12:26:29.183255Z",
     "iopub.status.idle": "2023-07-08T12:26:30.048022Z",
     "shell.execute_reply": "2023-07-08T12:26:30.046803Z"
    },
    "papermill": {
     "duration": 0.886234,
     "end_time": "2023-07-08T12:26:30.051066",
     "exception": false,
     "start_time": "2023-07-08T12:26:29.164832",
     "status": "completed"
    },
    "tags": []
   },
   "outputs": [
    {
     "data": {
      "image/png": "[encoded data removed]",
      "text/plain": [
       "<Figure size 1000x600 with 1 Axes>"
      ]
     },
     "metadata": {},
     "output_type": "display_data"
    }
   ],
   "source": [
    "importance = best_model.feature_importances_\n",
    "feature_names = feature_cols2\n",
    "\n",
    "# 重要度の高い順に特徴量をソート\n",
    "sorted_indices = importance.argsort()[::-1]\n",
    "sorted_importance = importance[sorted_indices]\n",
    "sorted_feature_names = [feature_names[i] for i in sorted_indices]\n",
    "\n",
    "plt.figure(figsize=(10, 6))\n",
    "plt.bar(sorted_feature_names, sorted_importance)\n",
    "plt.xticks(rotation='vertical')\n",
    "plt.xlabel('Features')\n",
    "plt.ylabel('Importance')\n",
    "plt.title('Feature Importance')\n",
    "plt.show()"
   ]
  },
  {
   "cell_type": "code",
   "execution_count": 16,
   "id": "c186b2da",
   "metadata": {
    "execution": {
     "iopub.execute_input": "2023-07-08T12:26:30.090403Z",
     "iopub.status.busy": "2023-07-08T12:26:30.089947Z",
     "iopub.status.idle": "2023-07-08T12:26:30.184073Z",
     "shell.execute_reply": "2023-07-08T12:26:30.183038Z"
    },
    "papermill": {
     "duration": 0.117549,
     "end_time": "2023-07-08T12:26:30.187525",
     "exception": false,
     "start_time": "2023-07-08T12:26:30.069976",
     "status": "completed"
    },
    "tags": []
   },
   "outputs": [
    {
     "data": {
      "text/html": [
       "<div>\n",
       "<style scoped>\n",
       "    .dataframe tbody tr th:only-of-type {\n",
       "        vertical-align: middle;\n",
       "    }\n",
       "\n",
       "    .dataframe tbody tr th {\n",
       "        vertical-align: top;\n",
       "    }\n",
       "\n",
       "    .dataframe thead th {\n",
       "        text-align: right;\n",
       "    }\n",
       "</style>\n",
       "<table border=\"1\" class=\"dataframe\">\n",
       "  <thead>\n",
       "    <tr style=\"text-align: right;\">\n",
       "      <th></th>\n",
       "      <th>AB</th>\n",
       "      <th>AF</th>\n",
       "      <th>AH</th>\n",
       "      <th>AM</th>\n",
       "      <th>AR</th>\n",
       "      <th>AX</th>\n",
       "      <th>AY</th>\n",
       "      <th>AZ</th>\n",
       "      <th>BC</th>\n",
       "      <th>BD</th>\n",
       "      <th>...</th>\n",
       "      <th>GE</th>\n",
       "      <th>GF</th>\n",
       "      <th>GH</th>\n",
       "      <th>GI</th>\n",
       "      <th>GL</th>\n",
       "      <th>sqrt(EH)/GL</th>\n",
       "      <th>FE/DA</th>\n",
       "      <th>AB/FS</th>\n",
       "      <th>log(FR)/FE</th>\n",
       "      <th>log(DY)/CC</th>\n",
       "    </tr>\n",
       "  </thead>\n",
       "  <tbody>\n",
       "    <tr>\n",
       "      <th>0</th>\n",
       "      <td>0.0</td>\n",
       "      <td>0.0</td>\n",
       "      <td>0.0</td>\n",
       "      <td>0.0</td>\n",
       "      <td>0.0</td>\n",
       "      <td>0.0</td>\n",
       "      <td>0.0</td>\n",
       "      <td>0.0</td>\n",
       "      <td>0.0</td>\n",
       "      <td>0.0</td>\n",
       "      <td>...</td>\n",
       "      <td>0.0</td>\n",
       "      <td>0.0</td>\n",
       "      <td>0.0</td>\n",
       "      <td>0.0</td>\n",
       "      <td>0.0</td>\n",
       "      <td>NaN</td>\n",
       "      <td>NaN</td>\n",
       "      <td>NaN</td>\n",
       "      <td>-inf</td>\n",
       "      <td>-inf</td>\n",
       "    </tr>\n",
       "    <tr>\n",
       "      <th>1</th>\n",
       "      <td>0.0</td>\n",
       "      <td>0.0</td>\n",
       "      <td>0.0</td>\n",
       "      <td>0.0</td>\n",
       "      <td>0.0</td>\n",
       "      <td>0.0</td>\n",
       "      <td>0.0</td>\n",
       "      <td>0.0</td>\n",
       "      <td>0.0</td>\n",
       "      <td>0.0</td>\n",
       "      <td>...</td>\n",
       "      <td>0.0</td>\n",
       "      <td>0.0</td>\n",
       "      <td>0.0</td>\n",
       "      <td>0.0</td>\n",
       "      <td>0.0</td>\n",
       "      <td>NaN</td>\n",
       "      <td>NaN</td>\n",
       "      <td>NaN</td>\n",
       "      <td>-inf</td>\n",
       "      <td>-inf</td>\n",
       "    </tr>\n",
       "    <tr>\n",
       "      <th>2</th>\n",
       "      <td>0.0</td>\n",
       "      <td>0.0</td>\n",
       "      <td>0.0</td>\n",
       "      <td>0.0</td>\n",
       "      <td>0.0</td>\n",
       "      <td>0.0</td>\n",
       "      <td>0.0</td>\n",
       "      <td>0.0</td>\n",
       "      <td>0.0</td>\n",
       "      <td>0.0</td>\n",
       "      <td>...</td>\n",
       "      <td>0.0</td>\n",
       "      <td>0.0</td>\n",
       "      <td>0.0</td>\n",
       "      <td>0.0</td>\n",
       "      <td>0.0</td>\n",
       "      <td>NaN</td>\n",
       "      <td>NaN</td>\n",
       "      <td>NaN</td>\n",
       "      <td>-inf</td>\n",
       "      <td>-inf</td>\n",
       "    </tr>\n",
       "    <tr>\n",
       "      <th>3</th>\n",
       "      <td>0.0</td>\n",
       "      <td>0.0</td>\n",
       "      <td>0.0</td>\n",
       "      <td>0.0</td>\n",
       "      <td>0.0</td>\n",
       "      <td>0.0</td>\n",
       "      <td>0.0</td>\n",
       "      <td>0.0</td>\n",
       "      <td>0.0</td>\n",
       "      <td>0.0</td>\n",
       "      <td>...</td>\n",
       "      <td>0.0</td>\n",
       "      <td>0.0</td>\n",
       "      <td>0.0</td>\n",
       "      <td>0.0</td>\n",
       "      <td>0.0</td>\n",
       "      <td>NaN</td>\n",
       "      <td>NaN</td>\n",
       "      <td>NaN</td>\n",
       "      <td>-inf</td>\n",
       "      <td>-inf</td>\n",
       "    </tr>\n",
       "    <tr>\n",
       "      <th>4</th>\n",
       "      <td>0.0</td>\n",
       "      <td>0.0</td>\n",
       "      <td>0.0</td>\n",
       "      <td>0.0</td>\n",
       "      <td>0.0</td>\n",
       "      <td>0.0</td>\n",
       "      <td>0.0</td>\n",
       "      <td>0.0</td>\n",
       "      <td>0.0</td>\n",
       "      <td>0.0</td>\n",
       "      <td>...</td>\n",
       "      <td>0.0</td>\n",
       "      <td>0.0</td>\n",
       "      <td>0.0</td>\n",
       "      <td>0.0</td>\n",
       "      <td>0.0</td>\n",
       "      <td>NaN</td>\n",
       "      <td>NaN</td>\n",
       "      <td>NaN</td>\n",
       "      <td>-inf</td>\n",
       "      <td>-inf</td>\n",
       "    </tr>\n",
       "  </tbody>\n",
       "</table>\n",
       "<p>5 rows × 61 columns</p>\n",
       "</div>"
      ],
      "text/plain": [
       "    AB   AF   AH   AM   AR   AX   AY   AZ   BC   BD  ...   GE   GF   GH   GI  \\\n",
       "0  0.0  0.0  0.0  0.0  0.0  0.0  0.0  0.0  0.0  0.0  ...  0.0  0.0  0.0  0.0   \n",
       "1  0.0  0.0  0.0  0.0  0.0  0.0  0.0  0.0  0.0  0.0  ...  0.0  0.0  0.0  0.0   \n",
       "2  0.0  0.0  0.0  0.0  0.0  0.0  0.0  0.0  0.0  0.0  ...  0.0  0.0  0.0  0.0   \n",
       "3  0.0  0.0  0.0  0.0  0.0  0.0  0.0  0.0  0.0  0.0  ...  0.0  0.0  0.0  0.0   \n",
       "4  0.0  0.0  0.0  0.0  0.0  0.0  0.0  0.0  0.0  0.0  ...  0.0  0.0  0.0  0.0   \n",
       "\n",
       "    GL  sqrt(EH)/GL  FE/DA  AB/FS  log(FR)/FE  log(DY)/CC  \n",
       "0  0.0          NaN    NaN    NaN        -inf        -inf  \n",
       "1  0.0          NaN    NaN    NaN        -inf        -inf  \n",
       "2  0.0          NaN    NaN    NaN        -inf        -inf  \n",
       "3  0.0          NaN    NaN    NaN        -inf        -inf  \n",
       "4  0.0          NaN    NaN    NaN        -inf        -inf  \n",
       "\n",
       "[5 rows x 61 columns]"
      ]
     },
     "execution_count": 16,
     "metadata": {},
     "output_type": "execute_result"
    }
   ],
   "source": [
    "test = test_df.drop('Id', axis=1)\n",
    "test.head()"
   ]
  },
  {
   "cell_type": "code",
   "execution_count": 17,
   "id": "d1e405df",
   "metadata": {
    "execution": {
     "iopub.execute_input": "2023-07-08T12:26:30.227808Z",
     "iopub.status.busy": "2023-07-08T12:26:30.227031Z",
     "iopub.status.idle": "2023-07-08T12:26:30.243994Z",
     "shell.execute_reply": "2023-07-08T12:26:30.242861Z"
    },
    "papermill": {
     "duration": 0.040658,
     "end_time": "2023-07-08T12:26:30.246893",
     "exception": false,
     "start_time": "2023-07-08T12:26:30.206235",
     "status": "completed"
    },
    "tags": []
   },
   "outputs": [],
   "source": [
    "pred = pd.DataFrame(best_model.predict_proba(test))"
   ]
  },
  {
   "cell_type": "code",
   "execution_count": 18,
   "id": "ecea3ff2",
   "metadata": {
    "execution": {
     "iopub.execute_input": "2023-07-08T12:26:30.290052Z",
     "iopub.status.busy": "2023-07-08T12:26:30.289651Z",
     "iopub.status.idle": "2023-07-08T12:26:30.314545Z",
     "shell.execute_reply": "2023-07-08T12:26:30.313491Z"
    },
    "papermill": {
     "duration": 0.048274,
     "end_time": "2023-07-08T12:26:30.317453",
     "exception": false,
     "start_time": "2023-07-08T12:26:30.269179",
     "status": "completed"
    },
    "tags": []
   },
   "outputs": [
    {
     "data": {
      "text/html": [
       "<div>\n",
       "<style scoped>\n",
       "    .dataframe tbody tr th:only-of-type {\n",
       "        vertical-align: middle;\n",
       "    }\n",
       "\n",
       "    .dataframe tbody tr th {\n",
       "        vertical-align: top;\n",
       "    }\n",
       "\n",
       "    .dataframe thead th {\n",
       "        text-align: right;\n",
       "    }\n",
       "</style>\n",
       "<table border=\"1\" class=\"dataframe\">\n",
       "  <thead>\n",
       "    <tr style=\"text-align: right;\">\n",
       "      <th></th>\n",
       "      <th>Id</th>\n",
       "      <th>class_0</th>\n",
       "      <th>class_1</th>\n",
       "    </tr>\n",
       "  </thead>\n",
       "  <tbody>\n",
       "    <tr>\n",
       "      <th>0</th>\n",
       "      <td>00eed32682bb</td>\n",
       "      <td>0.951892</td>\n",
       "      <td>0.048108</td>\n",
       "    </tr>\n",
       "    <tr>\n",
       "      <th>1</th>\n",
       "      <td>010ebe33f668</td>\n",
       "      <td>0.951892</td>\n",
       "      <td>0.048108</td>\n",
       "    </tr>\n",
       "    <tr>\n",
       "      <th>2</th>\n",
       "      <td>02fa521e1838</td>\n",
       "      <td>0.951892</td>\n",
       "      <td>0.048108</td>\n",
       "    </tr>\n",
       "    <tr>\n",
       "      <th>3</th>\n",
       "      <td>040e15f562a2</td>\n",
       "      <td>0.951892</td>\n",
       "      <td>0.048108</td>\n",
       "    </tr>\n",
       "    <tr>\n",
       "      <th>4</th>\n",
       "      <td>046e85c7cc7f</td>\n",
       "      <td>0.951892</td>\n",
       "      <td>0.048108</td>\n",
       "    </tr>\n",
       "  </tbody>\n",
       "</table>\n",
       "</div>"
      ],
      "text/plain": [
       "             Id   class_0   class_1\n",
       "0  00eed32682bb  0.951892  0.048108\n",
       "1  010ebe33f668  0.951892  0.048108\n",
       "2  02fa521e1838  0.951892  0.048108\n",
       "3  040e15f562a2  0.951892  0.048108\n",
       "4  046e85c7cc7f  0.951892  0.048108"
      ]
     },
     "execution_count": 18,
     "metadata": {},
     "output_type": "execute_result"
    }
   ],
   "source": [
    "sample_submission['Id']      = test_df.reset_index()['Id']\n",
    "sample_submission[\"class_0\"] = pred[0]\n",
    "sample_submission[\"class_1\"] = pred[1]\n",
    "sample_submission.set_index('Id').to_csv('submission.csv')\n",
    "sample_submission"
   ]
  },
  {
   "cell_type": "markdown",
   "id": "7263b8f3",
   "metadata": {
    "papermill": {
     "duration": 0.018677,
     "end_time": "2023-07-08T12:26:30.355626",
     "exception": false,
     "start_time": "2023-07-08T12:26:30.336949",
     "status": "completed"
    },
    "tags": []
   },
   "source": [
    "# **XGB CV 0.192**"
   ]
  },
  {
   "cell_type": "markdown",
   "id": "f1db94bd",
   "metadata": {
    "papermill": {
     "duration": 0.018271,
     "end_time": "2023-07-08T12:26:30.392524",
     "exception": false,
     "start_time": "2023-07-08T12:26:30.374253",
     "status": "completed"
    },
    "tags": []
   },
   "source": [
    "# **TabPFNでモデル作成してみる**"
   ]
  },
  {
   "cell_type": "code",
   "execution_count": 19,
   "id": "9852d07f",
   "metadata": {
    "execution": {
     "iopub.execute_input": "2023-07-08T12:26:30.435642Z",
     "iopub.status.busy": "2023-07-08T12:26:30.435189Z",
     "iopub.status.idle": "2023-07-08T12:26:48.454866Z",
     "shell.execute_reply": "2023-07-08T12:26:48.453106Z"
    },
    "papermill": {
     "duration": 18.04607,
     "end_time": "2023-07-08T12:26:48.457687",
     "exception": false,
     "start_time": "2023-07-08T12:26:30.411617",
     "status": "completed"
    },
    "tags": []
   },
   "outputs": [
    {
     "name": "stdout",
     "output_type": "stream",
     "text": [
      "Loading model that can be used for inference only\n",
      "Using a Transformer with 25.82 M parameters\n",
      "Loading model that can be used for inference only\n",
      "Using a Transformer with 25.82 M parameters\n",
      "Loading model that can be used for inference only\n",
      "Using a Transformer with 25.82 M parameters\n",
      "Loading model that can be used for inference only\n",
      "Using a Transformer with 25.82 M parameters\n",
      "Loading model that can be used for inference only\n",
      "Using a Transformer with 25.82 M parameters\n",
      "Logloss_Score 1: 0.1632606595435999\n",
      "Logloss_Score 2: 0.1384550152964725\n",
      "Logloss_Score 3: 0.27182590958710284\n",
      "Logloss_Score 4: 0.1700857722838722\n",
      "Logloss_Score 5: 0.22375679303990623\n",
      "Logloss_mean: 0.19347682995019072\n"
     ]
    }
   ],
   "source": [
    "y = train_df['Class']\n",
    "x = train_df[feature_cols2]\n",
    "\n",
    "device = \"cuda\" if torch.cuda.is_available() else \"cpu\"\n",
    "\n",
    "# クロスバリデーションの設定\n",
    "skf = StratifiedKFold(n_splits=5, random_state=42, shuffle=True)\n",
    "\n",
    "scores = []\n",
    "for train_index, test_index in skf.split(x, y):\n",
    "    X_train, X_test = x.iloc[train_index], x.iloc[test_index]\n",
    "    y_train, y_test = y.iloc[train_index], y.iloc[test_index]\n",
    "\n",
    "    model = TabPFNClassifier(device=device, N_ensemble_configurations=6)\n",
    "    \n",
    "    model.fit(X_train.values, y_train.values)\n",
    "\n",
    "    y_pred_proba = model.predict_proba(X_test.values)[:, 1]\n",
    "    score = log_loss(y_test.values, y_pred_proba)\n",
    "    scores.append(score)\n",
    "\n",
    "mean_score = sum(scores) / len(scores)\n",
    "for i, score in enumerate(scores):\n",
    "    print(f'Logloss_Score {i+1}: {score}')\n",
    "\n",
    "print(f'Logloss_mean: {mean_score}')"
   ]
  },
  {
   "cell_type": "markdown",
   "id": "6590da6e",
   "metadata": {
    "papermill": {
     "duration": 0.019744,
     "end_time": "2023-07-08T12:26:48.499255",
     "exception": false,
     "start_time": "2023-07-08T12:26:48.479511",
     "status": "completed"
    },
    "tags": []
   },
   "source": [
    "# **TabPFN CV 0.193**"
   ]
  },
  {
   "cell_type": "markdown",
   "id": "34d859db",
   "metadata": {
    "papermill": {
     "duration": 0.020761,
     "end_time": "2023-07-08T12:26:48.540637",
     "exception": false,
     "start_time": "2023-07-08T12:26:48.519876",
     "status": "completed"
    },
    "tags": []
   },
   "source": [
    "# **XGBとTabPFNのアンサンブルでモデルを作成する**"
   ]
  },
  {
   "cell_type": "code",
   "execution_count": 22,
   "id": "5df4e985",
   "metadata": {
    "execution": {
     "iopub.execute_input": "2023-07-08T12:26:48.583570Z",
     "iopub.status.busy": "2023-07-08T12:26:48.582957Z",
     "iopub.status.idle": "2023-07-08T12:26:49.339709Z",
     "shell.execute_reply": "2023-07-08T12:26:49.338154Z"
    },
    "papermill": {
     "duration": 0.78129,
     "end_time": "2023-07-08T12:26:49.342807",
     "exception": false,
     "start_time": "2023-07-08T12:26:48.561517",
     "status": "completed"
    },
    "tags": []
   },
   "outputs": [],
   "source": [
    "from sklearn.base import BaseEstimator\n",
    "from sklearn.ensemble import RandomForestClassifier\n",
    "from sklearn.neural_network import MLPClassifier\n",
    "from sklearn.impute import SimpleImputer\n",
    "from sklearn.base import BaseEstimator, ClassifierMixin"
   ]
  },
  {
   "cell_type": "code",
   "execution_count": 23,
   "id": "50e5e0e5",
   "metadata": {
    "execution": {
     "iopub.execute_input": "2023-07-08T12:26:49.385080Z",
     "iopub.status.busy": "2023-07-08T12:26:49.383664Z",
     "iopub.status.idle": "2023-07-08T12:26:49.396540Z",
     "shell.execute_reply": "2023-07-08T12:26:49.395479Z"
    },
    "papermill": {
     "duration": 0.036666,
     "end_time": "2023-07-08T12:26:49.399262",
     "exception": false,
     "start_time": "2023-07-08T12:26:49.362596",
     "status": "completed"
    },
    "tags": []
   },
   "outputs": [],
   "source": [
    "from sklearn.base import BaseEstimator, ClassifierMixin\n",
    "import numpy as np\n",
    "import xgboost as xgb\n",
    "\n",
    "class WeightedEnsemble(BaseEstimator, ClassifierMixin):\n",
    "    def __init__(self, xgb_params=None):\n",
    "        self.xgb_params = xgb_params\n",
    "        self.classifiers = [\n",
    "            xgb.XGBClassifier(**params) for params in self.xgb_params\n",
    "        ]\n",
    "        self.classifiers.append(TabPFNClassifier())  # TabPFNClassifierを追加\n",
    "\n",
    "    def fit(self, X_train, y_train):\n",
    "        unique_classes, y_train = np.unique(y_train, return_inverse=True)\n",
    "        self.classes_ = unique_classes\n",
    "        for classifier in self.classifiers:\n",
    "            classifier.fit(X_train, y_train)\n",
    "\n",
    "    def predict_proba(self, X_train):\n",
    "        probabilities = np.stack([classifier.predict_proba(X_train) for classifier in self.classifiers])\n",
    "        averaged_probabilities = np.mean(probabilities, axis=0)\n",
    "        class_0_est_instances = averaged_probabilities[:, 0].sum()\n",
    "        others_est_instances = averaged_probabilities[:, 1:].sum()\n",
    "        # Weighted probabilities based on class imbalance\n",
    "        new_probabilities = averaged_probabilities * np.array([[1/(class_0_est_instances if i==0 else others_est_instances) for i in range(averaged_probabilities.shape[1])]])\n",
    "        return new_probabilities / np.sum(new_probabilities, axis=1, keepdims=1)"
   ]
  },
  {
   "cell_type": "code",
   "execution_count": 24,
   "id": "29d47dd3",
   "metadata": {
    "execution": {
     "iopub.execute_input": "2023-07-08T12:26:49.443438Z",
     "iopub.status.busy": "2023-07-08T12:26:49.441703Z",
     "iopub.status.idle": "2023-07-08T12:26:49.449365Z",
     "shell.execute_reply": "2023-07-08T12:26:49.448379Z"
    },
    "papermill": {
     "duration": 0.031533,
     "end_time": "2023-07-08T12:26:49.452031",
     "exception": false,
     "start_time": "2023-07-08T12:26:49.420498",
     "status": "completed"
    },
    "tags": []
   },
   "outputs": [],
   "source": [
    "y = train_df['Class']\n",
    "x = train_df[feature_cols2]"
   ]
  },
  {
   "cell_type": "code",
   "execution_count": 25,
   "id": "cc25c960",
   "metadata": {
    "execution": {
     "iopub.execute_input": "2023-07-08T12:26:49.496098Z",
     "iopub.status.busy": "2023-07-08T12:26:49.494636Z",
     "iopub.status.idle": "2023-07-08T12:27:01.324316Z",
     "shell.execute_reply": "2023-07-08T12:27:01.322961Z"
    },
    "papermill": {
     "duration": 11.85419,
     "end_time": "2023-07-08T12:27:01.326992",
     "exception": false,
     "start_time": "2023-07-08T12:26:49.472802",
     "status": "completed"
    },
    "tags": []
   },
   "outputs": [
    {
     "name": "stdout",
     "output_type": "stream",
     "text": [
      "Loading model that can be used for inference only\n",
      "Using a Transformer with 25.82 M parameters\n",
      "Loading model that can be used for inference only\n",
      "Using a Transformer with 25.82 M parameters\n",
      "Loading model that can be used for inference only\n",
      "Using a Transformer with 25.82 M parameters\n",
      "Loading model that can be used for inference only\n",
      "Using a Transformer with 25.82 M parameters\n",
      "Loading model that can be used for inference only\n",
      "Using a Transformer with 25.82 M parameters\n",
      "Logloss_Score 1: 0.20314091030110287\n",
      "Logloss_Score 2: 0.15733200853431276\n",
      "Logloss_Score 3: 0.24606138058681165\n",
      "Logloss_Score 4: 0.23075438550473765\n",
      "Logloss_Score 5: 0.24376716889799924\n",
      "Logloss_mean: 0.21621117076499283\n"
     ]
    }
   ],
   "source": [
    "skf = StratifiedKFold(n_splits=5, shuffle=True, random_state=42)\n",
    "\n",
    "# ベストモデルを使用して評価\n",
    "scores = []\n",
    "for train_index, test_index in skf.split(x, y):\n",
    "    X_train, X_test = x.iloc[train_index], x.iloc[test_index]\n",
    "    y_train, y_test = y.iloc[train_index], y.iloc[test_index]\n",
    "        \n",
    "    model = WeightedEnsemble(xgb_params=[\n",
    "        {\n",
    "            'learning_rate': 0.1,\n",
    "            'n_estimators': 100,\n",
    "            'random_state': 0,\n",
    "            'objective': 'binary:logistic',\n",
    "            'eval_metric': 'logloss',\n",
    "            'eta': 0.1,\n",
    "            'colsample_bytree': 0.8,\n",
    "            'max_depth': 3,\n",
    "            'min_child_weight': 1,\n",
    "            'subsample': 0.8\n",
    "        }\n",
    "    ])\n",
    "    \n",
    "    model.fit(X_train, y_train)\n",
    "    y_pred = model.predict_proba(X_test)[:, 1]\n",
    "    score = log_loss(y_test, y_pred)\n",
    "    scores.append(score)\n",
    "\n",
    "mean_score = sum(scores) / len(scores)\n",
    "for i, score in enumerate(scores):\n",
    "    print(f'Logloss_Score {i+1}: {score}')\n",
    "\n",
    "print(f'Logloss_mean: {mean_score}')"
   ]
  },
  {
   "cell_type": "code",
   "execution_count": null,
   "id": "daaef9f2",
   "metadata": {
    "execution": {
     "iopub.execute_input": "2023-07-08T12:27:01.372350Z",
     "iopub.status.busy": "2023-07-08T12:27:01.371619Z",
     "iopub.status.idle": "2023-07-08T12:27:01.463266Z",
     "shell.execute_reply": "2023-07-08T12:27:01.462073Z"
    },
    "papermill": {
     "duration": 0.117748,
     "end_time": "2023-07-08T12:27:01.465910",
     "exception": false,
     "start_time": "2023-07-08T12:27:01.348162",
     "status": "completed"
    },
    "tags": []
   },
   "outputs": [],
   "source": [
    "test = test_df.drop('Id', axis=1)\n",
    "test.head()"
   ]
  },
  {
   "cell_type": "code",
   "execution_count": null,
   "id": "076c6534",
   "metadata": {
    "execution": {
     "iopub.execute_input": "2023-07-08T12:27:01.513202Z",
     "iopub.status.busy": "2023-07-08T12:27:01.512382Z",
     "iopub.status.idle": "2023-07-08T12:27:03.203397Z",
     "shell.execute_reply": "2023-07-08T12:27:03.202339Z"
    },
    "papermill": {
     "duration": 1.718171,
     "end_time": "2023-07-08T12:27:03.206074",
     "exception": false,
     "start_time": "2023-07-08T12:27:01.487903",
     "status": "completed"
    },
    "tags": []
   },
   "outputs": [],
   "source": [
    "pred = pd.DataFrame(model.predict_proba(test))"
   ]
  },
  {
   "cell_type": "code",
   "execution_count": null,
   "id": "58a3f118",
   "metadata": {
    "execution": {
     "iopub.execute_input": "2023-07-08T12:27:03.256251Z",
     "iopub.status.busy": "2023-07-08T12:27:03.255332Z",
     "iopub.status.idle": "2023-07-08T12:27:03.265284Z",
     "shell.execute_reply": "2023-07-08T12:27:03.263911Z"
    },
    "papermill": {
     "duration": 0.037647,
     "end_time": "2023-07-08T12:27:03.268169",
     "exception": false,
     "start_time": "2023-07-08T12:27:03.230522",
     "status": "completed"
    },
    "tags": []
   },
   "outputs": [],
   "source": [
    "\"\"\"\n",
    "sample_submission['Id']      = test_df.reset_index()['Id']\n",
    "sample_submission[\"class_0\"] = pred[0]\n",
    "sample_submission[\"class_1\"] = pred[1]\n",
    "sample_submission.set_index('Id').to_csv('submission.csv')\n",
    "sample_submission\n",
    "\"\"\"\n"
   ]
  },
  {
   "cell_type": "markdown",
   "id": "ad79db82",
   "metadata": {
    "papermill": {
     "duration": 0.02141,
     "end_time": "2023-07-08T12:27:03.312716",
     "exception": false,
     "start_time": "2023-07-08T12:27:03.291306",
     "status": "completed"
    },
    "tags": []
   },
   "source": [
    "# **WeightedEnsemble**\n",
    "# **LB 0.20 CV 0.216**"
   ]
  },
  {
   "cell_type": "code",
   "execution_count": null,
   "id": "6657be74",
   "metadata": {
    "papermill": {
     "duration": 0.025009,
     "end_time": "2023-07-08T12:27:03.362734",
     "exception": false,
     "start_time": "2023-07-08T12:27:03.337725",
     "status": "completed"
    },
    "tags": []
   },
   "outputs": [],
   "source": []
  }
 ],
 "metadata": {
  "kernelspec": {
   "display_name": "Python 3 (ipykernel)",
   "language": "python",
   "name": "python3"
  },
  "language_info": {
   "codemirror_mode": {
    "name": "ipython",
    "version": 3
   },
   "file_extension": ".py",
   "mimetype": "text/x-python",
   "name": "python",
   "nbconvert_exporter": "python",
   "pygments_lexer": "ipython3",
   "version": "3.9.17"
  },
  "papermill": {
   "default_parameters": {},
   "duration": 439.333519,
   "end_time": "2023-07-08T12:27:06.293364",
   "environment_variables": {},
   "exception": null,
   "input_path": "__notebook__.ipynb",
   "output_path": "__notebook__.ipynb",
   "parameters": {},
   "start_time": "2023-07-08T12:19:46.959845",
   "version": "2.4.0"
  }
 },
 "nbformat": 4,
 "nbformat_minor": 5
}
